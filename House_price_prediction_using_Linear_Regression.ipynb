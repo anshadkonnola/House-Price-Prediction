{
  "cells": [
    {
      "cell_type": "markdown",
      "metadata": {
        "id": "I1VRs4tZkbvW"
      },
      "source": [
        "# **Day-12 | Exam mark prediction using Linear Regression-multipleVariable**"
      ]
    },
    {
      "cell_type": "markdown",
      "metadata": {
        "id": "SAFLqwkKk8rK"
      },
      "source": [
        "### *Import Libraries*"
      ]
    },
    {
      "cell_type": "code",
      "execution_count": 2,
      "metadata": {
        "id": "EgF2lvr_jzVL"
      },
      "outputs": [],
      "source": [
        "import pandas as pd\n",
        "from sklearn.linear_model import LinearRegression "
      ]
    },
    {
      "cell_type": "markdown",
      "metadata": {
        "id": "6gXowmSom462"
      },
      "source": [
        "### *Load Dataset*"
      ]
    },
    {
      "cell_type": "code",
      "execution_count": 14,
      "metadata": {
        "id": "6JLDHSdym6wP"
      },
      "outputs": [],
      "source": [
        "dataset = pd.read_csv('./HouseDataset.csv')"
      ]
    },
    {
      "cell_type": "markdown",
      "metadata": {
        "id": "-DdkIy1ZnDfA"
      },
      "source": [
        "### *Load Summarize*"
      ]
    },
    {
      "cell_type": "code",
      "execution_count": 4,
      "metadata": {
        "colab": {
          "base_uri": "https://localhost:8080/"
        },
        "id": "OlElQViRnGFp",
        "outputId": "bc3027eb-b70d-4cc0-ea78-a1eb512c0d8e"
      },
      "outputs": [
        {
          "name": "stdout",
          "output_type": "stream",
          "text": [
            "(1460, 81)\n",
            "   Id  MSSubClass MSZoning  LotFrontage  LotArea Street Alley LotShape  \\\n",
            "0   1          60       RL         65.0     8450   Pave   NaN      Reg   \n",
            "1   2          20       RL         80.0     9600   Pave   NaN      Reg   \n",
            "2   3          60       RL         68.0    11250   Pave   NaN      IR1   \n",
            "3   4          70       RL         60.0     9550   Pave   NaN      IR1   \n",
            "4   5          60       RL         84.0    14260   Pave   NaN      IR1   \n",
            "\n",
            "  LandContour Utilities  ... PoolArea PoolQC Fence MiscFeature MiscVal MoSold  \\\n",
            "0         Lvl    AllPub  ...        0    NaN   NaN         NaN       0      2   \n",
            "1         Lvl    AllPub  ...        0    NaN   NaN         NaN       0      5   \n",
            "2         Lvl    AllPub  ...        0    NaN   NaN         NaN       0      9   \n",
            "3         Lvl    AllPub  ...        0    NaN   NaN         NaN       0      2   \n",
            "4         Lvl    AllPub  ...        0    NaN   NaN         NaN       0     12   \n",
            "\n",
            "  YrSold  SaleType  SaleCondition  SalePrice  \n",
            "0   2008        WD         Normal     208500  \n",
            "1   2007        WD         Normal     181500  \n",
            "2   2008        WD         Normal     223500  \n",
            "3   2006        WD        Abnorml     140000  \n",
            "4   2008        WD         Normal     250000  \n",
            "\n",
            "[5 rows x 81 columns]\n",
            "                Id  MSSubClass  LotFrontage  LotArea  OverallQual  \\\n",
            "HouseStyle                                                          \n",
            "1.5Fin      116260        8960       8681.0  1763088          832   \n",
            "1.5Unf        6518         760        710.0    99662           77   \n",
            "1Story      526733       26920      42950.0  7727841         4317   \n",
            "2.5Fin        4951         710        630.0    99745           51   \n",
            "2.5Unf        7967        1055        618.0   100686           72   \n",
            "2Story      322054       35235      25467.0  4594699         2974   \n",
            "SFoyer       29513        3890       1717.0   283895          197   \n",
            "SLvl         52534        5540       3357.0   684953          385   \n",
            "\n",
            "            OverallCond  YearBuilt  YearRemodAdd  MasVnrArea  BsmtFinSF1  ...  \\\n",
            "HouseStyle                                                                ...   \n",
            "1.5Fin              921     298261        303383      4956.0       37983  ...   \n",
            "1.5Unf               86      27070         27468         0.0        2087  ...   \n",
            "1Story             3972    1433857       1441104     68225.0      381361  ...   \n",
            "2.5Fin               54      15291         15851         0.0        1157  ...   \n",
            "2.5Unf               66      21049         21724         0.0        2119  ...   \n",
            "2Story             2447     881013        886221     66475.0      164439  ...   \n",
            "SFoyer              214      73162         73348      2414.0       27166  ...   \n",
            "SLvl                380     128348        128805      8481.0       31402  ...   \n",
            "\n",
            "            WoodDeckSF  OpenPorchSF  EnclosedPorch  3SsnPorch  ScreenPorch  \\\n",
            "HouseStyle                                                                   \n",
            "1.5Fin           10402         3946           7385        604         3392   \n",
            "1.5Unf              48          214            989          0           40   \n",
            "1Story           67503        29926          11568       3133        10511   \n",
            "2.5Fin            1131          843             30          0          410   \n",
            "2.5Unf             145         1350           1399          0          225   \n",
            "2Story           48050        29038           8848       1015         6002   \n",
            "SFoyer            2817          638            609          0          192   \n",
            "SLvl              7501         2169           1225        226         1217   \n",
            "\n",
            "            PoolArea  MiscVal  MoSold   YrSold  SalePrice  \n",
            "HouseStyle                                                 \n",
            "1.5Fin             0    17550     968   309207   22039978  \n",
            "1.5Unf             0        0      82    28106    1542100  \n",
            "1Story           648    32264    4558  1457696  127765457  \n",
            "2.5Fin             0        0      48    16061    1760000  \n",
            "2.5Unf             0        0      75    22082    1730900  \n",
            "2Story          2066    11480    2835   893463   93473035  \n",
            "SFoyer             0     1000     227    74292    4997756  \n",
            "SLvl            1314     1200     437   130504   10835720  \n",
            "\n",
            "[8 rows x 38 columns]\n"
          ]
        }
      ],
      "source": [
        "print(dataset.shape)\n",
        "print(dataset.head(5))\n",
        "#print(dataset.columns)\n",
        "print(dataset.groupby('HouseStyle').sum())"
      ]
    },
    {
      "cell_type": "markdown",
      "metadata": {
        "id": "-Zb9xIa-kOx5"
      },
      "source": [
        "### *Finding & Removing NA values from our Features X*"
      ]
    },
    {
      "cell_type": "code",
      "execution_count": 5,
      "metadata": {
        "colab": {
          "base_uri": "https://localhost:8080/"
        },
        "id": "UwyBQ5nZkTpf",
        "outputId": "714f6fb6-8f5b-4e76-9fa2-89b3b3aebdd5"
      },
      "outputs": [
        {
          "data": {
            "text/plain": [
              "Index(['LotFrontage', 'Alley', 'MasVnrType', 'MasVnrArea', 'BsmtQual',\n",
              "       'BsmtCond', 'BsmtExposure', 'BsmtFinType1', 'BsmtFinType2',\n",
              "       'Electrical', 'FireplaceQu', 'GarageType', 'GarageYrBlt',\n",
              "       'GarageFinish', 'GarageQual', 'GarageCond', 'PoolQC', 'Fence',\n",
              "       'MiscFeature'],\n",
              "      dtype='object')"
            ]
          },
          "execution_count": 5,
          "metadata": {},
          "output_type": "execute_result"
        }
      ],
      "source": [
        "dataset.columns[dataset.isna().any()]"
      ]
    },
    {
      "cell_type": "code",
      "execution_count": 6,
      "metadata": {
        "id": "8LxSw9aHlJTC"
      },
      "outputs": [],
      "source": [
        "dataset.LotFrontage = dataset.LotFrontage.fillna(dataset.LotFrontage.mean())"
      ]
    },
    {
      "cell_type": "code",
      "execution_count": 7,
      "metadata": {
        "colab": {
          "base_uri": "https://localhost:8080/"
        },
        "id": "1I5eb8cDyGIx",
        "outputId": "ce5247d8-a76d-4924-dcdb-9a5434e99715"
      },
      "outputs": [
        {
          "data": {
            "text/plain": [
              "Index(['Alley', 'MasVnrType', 'MasVnrArea', 'BsmtQual', 'BsmtCond',\n",
              "       'BsmtExposure', 'BsmtFinType1', 'BsmtFinType2', 'Electrical',\n",
              "       'FireplaceQu', 'GarageType', 'GarageYrBlt', 'GarageFinish',\n",
              "       'GarageQual', 'GarageCond', 'PoolQC', 'Fence', 'MiscFeature'],\n",
              "      dtype='object')"
            ]
          },
          "execution_count": 7,
          "metadata": {},
          "output_type": "execute_result"
        }
      ],
      "source": [
        "dataset.columns[dataset.isna().any()]\n"
      ]
    },
    {
      "cell_type": "code",
      "execution_count": 8,
      "metadata": {
        "colab": {
          "base_uri": "https://localhost:8080/"
        },
        "id": "cJG2TMKpz0Zj",
        "outputId": "b06fb38d-7bc8-4d0f-c82c-c3d3f510dedf"
      },
      "outputs": [
        {
          "name": "stdout",
          "output_type": "stream",
          "text": [
            "   Id  MSSubClass  MSZoning  LotFrontage  LotArea Street Alley LotShape  \\\n",
            "0   1          60         0         65.0     8450   Pave   NaN      Reg   \n",
            "1   2          20         0         80.0     9600   Pave   NaN      Reg   \n",
            "2   3          60         0         68.0    11250   Pave   NaN      IR1   \n",
            "3   4          70         0         60.0     9550   Pave   NaN      IR1   \n",
            "4   5          60         0         84.0    14260   Pave   NaN      IR1   \n",
            "\n",
            "  LandContour Utilities  ... PoolArea PoolQC Fence MiscFeature MiscVal MoSold  \\\n",
            "0         Lvl    AllPub  ...        0    NaN   NaN         NaN       0      2   \n",
            "1         Lvl    AllPub  ...        0    NaN   NaN         NaN       0      5   \n",
            "2         Lvl    AllPub  ...        0    NaN   NaN         NaN       0      9   \n",
            "3         Lvl    AllPub  ...        0    NaN   NaN         NaN       0      2   \n",
            "4         Lvl    AllPub  ...        0    NaN   NaN         NaN       0     12   \n",
            "\n",
            "   YrSold  SaleType  SaleCondition  SalePrice  \n",
            "0    2008        WD         Normal     208500  \n",
            "1    2007        WD         Normal     181500  \n",
            "2    2008        WD         Normal     223500  \n",
            "3    2006        WD        Abnorml     140000  \n",
            "4    2008        WD         Normal     250000  \n",
            "\n",
            "[5 rows x 81 columns]\n"
          ]
        }
      ],
      "source": [
        "msZoning={'RL': 0, 'RM': 1, 'FV': 2, 'RH': 3, 'C (all)': 4}\n",
        "houseStyle={'1Story': 0, '2Story': 1, '1.5Fin': 2, '1.5Unf': 3, '2.Fin': 4, '2.5Unf': 5, 'SFoyer': 6, 'SLvl': 7}\n",
        "dataset['MSZoning'] = dataset['MSZoning'].map(msZoning).fillna(-1).astype(int)\n",
        "dataset['HouseStyle'] = dataset['HouseStyle'].map(houseStyle).fillna(-1).astype(int)\n",
        "print(dataset.head(5))"
      ]
    },
    {
      "cell_type": "markdown",
      "metadata": {
        "id": "JRyfB6prpJDP"
      },
      "source": [
        "### *Segregate Dataset into Input X & Output Y*"
      ]
    },
    {
      "cell_type": "code",
      "execution_count": 9,
      "metadata": {
        "colab": {
          "base_uri": "https://localhost:8080/"
        },
        "id": "x9dQcTohpK1X",
        "outputId": "12432ad7-8eac-4ea8-9fb3-8abbc0c5fd99"
      },
      "outputs": [
        {
          "name": "stdout",
          "output_type": "stream",
          "text": [
            "(1460, 7)\n"
          ]
        },
        {
          "data": {
            "text/plain": [
              "array([[60.,  0., 65., ...,  1.,  7.,  5.],\n",
              "       [20.,  0., 80., ...,  0.,  6.,  8.],\n",
              "       [60.,  0., 68., ...,  1.,  7.,  5.],\n",
              "       ...,\n",
              "       [70.,  0., 66., ...,  1.,  7.,  9.],\n",
              "       [20.,  0., 68., ...,  0.,  5.,  6.],\n",
              "       [20.,  0., 75., ...,  0.,  5.,  6.]])"
            ]
          },
          "execution_count": 9,
          "metadata": {},
          "output_type": "execute_result"
        }
      ],
      "source": [
        "features=[\"MSSubClass\", \"MSZoning\", \"LotFrontage\", \"LotArea\", \"HouseStyle\", \"OverallQual\", \"OverallCond\"]\n",
        "X = dataset.loc[:, features].values\n",
        "print(X.shape)\n",
        "X"
      ]
    },
    {
      "cell_type": "code",
      "execution_count": 10,
      "metadata": {
        "colab": {
          "base_uri": "https://localhost:8080/"
        },
        "id": "SqxVaBO0pf1W",
        "outputId": "2c9a0808-593d-40e4-a86f-05d149d5e792"
      },
      "outputs": [
        {
          "data": {
            "text/plain": [
              "array([208500, 181500, 223500, ..., 266500, 142125, 147500], dtype=int64)"
            ]
          },
          "execution_count": 10,
          "metadata": {},
          "output_type": "execute_result"
        }
      ],
      "source": [
        "Y = dataset.loc[:, \"SalePrice\"].values\n",
        "Y"
      ]
    },
    {
      "cell_type": "markdown",
      "metadata": {
        "id": "KsDoGjjbpmjk"
      },
      "source": [
        "### *Training Dataset using Linear Regression*"
      ]
    },
    {
      "cell_type": "code",
      "execution_count": 11,
      "metadata": {
        "colab": {
          "base_uri": "https://localhost:8080/"
        },
        "id": "nKmEySI1poV_",
        "outputId": "fda8ad00-9a09-43cf-be16-c2612a730230"
      },
      "outputs": [
        {
          "data": {
            "text/plain": [
              "LinearRegression()"
            ]
          },
          "execution_count": 11,
          "metadata": {},
          "output_type": "execute_result"
        }
      ],
      "source": [
        "model = LinearRegression()\n",
        "model.fit(X,Y)"
      ]
    },
    {
      "cell_type": "code",
      "execution_count": 12,
      "metadata": {
        "colab": {
          "base_uri": "https://localhost:8080/"
        },
        "id": "OpC7PqZwRVnu",
        "outputId": "89e72d85-a84f-4a94-c57d-ec7847a81c65"
      },
      "outputs": [
        {
          "name": "stdout",
          "output_type": "stream",
          "text": [
            "[-5.48431970e+01 -7.07313974e+03  3.21800805e+02  1.13487692e+00\n",
            " -1.53705590e+03  4.29733688e+04 -1.98324371e+02]\n",
            "-107726.78168613635\n"
          ]
        }
      ],
      "source": [
        "print(model.coef_)\n",
        "print(model.intercept_)"
      ]
    },
    {
      "cell_type": "markdown",
      "metadata": {
        "id": "n-UeFqpGpw9p"
      },
      "source": [
        "### *Predicted Price for Land sq.Feet of custom values*"
      ]
    },
    {
      "cell_type": "code",
      "execution_count": 13,
      "metadata": {
        "colab": {
          "base_uri": "https://localhost:8080/"
        },
        "id": "Ollo3wTcpyKQ",
        "outputId": "dfd57df3-8174-4758-e5e2-1a773c8acf39"
      },
      "outputs": [
        {
          "ename": "ValueError",
          "evalue": "invalid literal for int() with base 10: ''",
          "output_type": "error",
          "traceback": [
            "\u001b[1;31m---------------------------------------------------------------------------\u001b[0m",
            "\u001b[1;31mValueError\u001b[0m                                Traceback (most recent call last)",
            "\u001b[1;32m~\\AppData\\Local\\Temp/ipykernel_1168/1919062532.py\u001b[0m in \u001b[0;36m<module>\u001b[1;34m\u001b[0m\n\u001b[1;32m----> 1\u001b[1;33m \u001b[0marea\u001b[0m \u001b[1;33m=\u001b[0m \u001b[0mint\u001b[0m\u001b[1;33m(\u001b[0m\u001b[0minput\u001b[0m\u001b[1;33m(\u001b[0m\u001b[1;34m\"Enter Lot Area: \"\u001b[0m\u001b[1;33m)\u001b[0m\u001b[1;33m)\u001b[0m\u001b[1;33m\u001b[0m\u001b[1;33m\u001b[0m\u001b[0m\n\u001b[0m\u001b[0;32m      2\u001b[0m \u001b[0mcondition\u001b[0m \u001b[1;33m=\u001b[0m \u001b[0mint\u001b[0m\u001b[1;33m(\u001b[0m\u001b[0minput\u001b[0m\u001b[1;33m(\u001b[0m\u001b[1;34m\"Enter overall condition 0-10: \"\u001b[0m\u001b[1;33m)\u001b[0m\u001b[1;33m)\u001b[0m\u001b[1;33m\u001b[0m\u001b[1;33m\u001b[0m\u001b[0m\n\u001b[0;32m      3\u001b[0m \u001b[0mquality\u001b[0m \u001b[1;33m=\u001b[0m \u001b[0mint\u001b[0m\u001b[1;33m(\u001b[0m\u001b[0minput\u001b[0m\u001b[1;33m(\u001b[0m\u001b[1;34m\"Enter overall quality 0-10: \"\u001b[0m\u001b[1;33m)\u001b[0m\u001b[1;33m)\u001b[0m\u001b[1;33m\u001b[0m\u001b[1;33m\u001b[0m\u001b[0m\n\u001b[0;32m      4\u001b[0m \u001b[0mlot\u001b[0m \u001b[1;33m=\u001b[0m \u001b[0mint\u001b[0m\u001b[1;33m(\u001b[0m\u001b[0minput\u001b[0m\u001b[1;33m(\u001b[0m\u001b[1;34m\"Enter Lot Frontage 0-120: \"\u001b[0m\u001b[1;33m)\u001b[0m\u001b[1;33m)\u001b[0m\u001b[1;33m\u001b[0m\u001b[1;33m\u001b[0m\u001b[0m\n\u001b[0;32m      5\u001b[0m \u001b[0mmsclass\u001b[0m \u001b[1;33m=\u001b[0m \u001b[0mint\u001b[0m\u001b[1;33m(\u001b[0m\u001b[0minput\u001b[0m\u001b[1;33m(\u001b[0m\u001b[1;34m\"Enter Ms subclass 0-200: \"\u001b[0m\u001b[1;33m)\u001b[0m\u001b[1;33m)\u001b[0m\u001b[1;33m\u001b[0m\u001b[1;33m\u001b[0m\u001b[0m\n",
            "\u001b[1;31mValueError\u001b[0m: invalid literal for int() with base 10: ''"
          ]
        }
      ],
      "source": [
        "area = int(input(\"Enter Lot Area: \"))\n",
        "condition = int(input(\"Enter overall condition 0-10: \"))\n",
        "quality = int(input(\"Enter overall quality 0-10: \"))\n",
        "lot = int(input(\"Enter Lot Frontage 0-120: \"))\n",
        "msclass = int(input(\"Enter Ms subclass 0-200: \"))\n",
        "hstyle = int(input(\"Enter house style 0-7: \"))\n",
        "zone = int(input(\"Enter MS zone 0-4: \"))\n",
        "a=[[msclass, zone, lot, area, hstyle, quality, condition]]\n",
        "Price=model.predict(a)\n",
        "print(\"price is: \",Price[0])"
      ]
    },
    {
      "cell_type": "code",
      "execution_count": null,
      "metadata": {
        "colab": {
          "base_uri": "https://localhost:8080/"
        },
        "id": "Id00eTPKwiuc",
        "outputId": "33c3603d-5f32-48d6-e9cf-211769954a7d"
      },
      "outputs": [
        {
          "name": "stdout",
          "output_type": "stream",
          "text": [
            "X (1460, 7)\n",
            "Y (1460,)\n",
            "Coefficients are [-5.48431970e+01 -7.07313974e+03  3.21800805e+02  1.13487692e+00\n",
            " -1.53705590e+03  4.29733688e+04 -1.98324371e+02]\n",
            "Intercept is -107726.78168611499\n",
            "**********************************************************************\n",
            "Enter Lot Area: 25423\n",
            "Enter overall condition 0-10: 9\n",
            "Enter overall quality 0-10: 9\n",
            "Enter Lot Frontage 0-120: 56\n",
            "Enter Ms subclass 0-200: 111\n",
            "Enter house style 0-7: 8\n",
            "Enter MS zone 0-4: 4\n",
            "price is:  277444.8376835936\n"
          ]
        }
      ],
      "source": [
        "import pandas as pd\n",
        "from sklearn.linear_model import LinearRegression\n",
        "dataset = pd.read_csv('practiceDataset.csv')\n",
        "\n",
        "#fill NA values for feature columns only\n",
        "dataset.columns[dataset.isna().any()]\n",
        "dataset.LotFrontage = dataset.LotFrontage.fillna(dataset.LotFrontage.mean())\n",
        "\n",
        "#mapping\n",
        "msZoning={'RL': 0, 'RM': 1, 'FV': 2, 'RH': 3, 'C (all)': 4}\n",
        "houseStyle={'1Story': 0, '2Story': 1, '1.5Fin': 2, '1.5Unf': 3, '2.Fin': 4, '2.5Unf': 5, 'SFoyer': 6, 'SLvl': 7}\n",
        "dataset['MSZoning'] = dataset['MSZoning'].map(msZoning).fillna(-1).astype(int)\n",
        "dataset['HouseStyle'] = dataset['HouseStyle'].map(houseStyle).fillna(-1).astype(int)\n",
        "\n",
        "#getting features from dataset\n",
        "features=[\"MSSubClass\", \"MSZoning\", \"LotFrontage\", \"LotArea\", \"HouseStyle\", \"OverallQual\", \"OverallCond\"]\n",
        "X = dataset.loc[:, features].values\n",
        "print(\"X\",X.shape)\n",
        "\n",
        "Y = dataset.loc[:, \"SalePrice\"].values\n",
        "print(\"Y\",Y.shape)\n",
        "\n",
        "model = LinearRegression()\n",
        "model.fit(X,Y)\n",
        "\n",
        "print(\"Coefficients are\",model.coef_)\n",
        "print(\"Intercept is\",model.intercept_)\n",
        "print(\"**********************************************************************\")\n",
        "area = int(input(\"Enter Lot Area: \"))\n",
        "condition = int(input(\"Enter overall condition 0-10: \"))\n",
        "quality = int(input(\"Enter overall quality 0-10: \"))\n",
        "lot = int(input(\"Enter Lot Frontage 0-120: \"))\n",
        "msclass = int(input(\"Enter Ms subclass 0-200: \"))\n",
        "hstyle = int(input(\"Enter house style 0-7: \"))\n",
        "zone = int(input(\"Enter MS zone 0-4: \"))\n",
        "a=[[msclass, zone, lot, area, hstyle, quality, condition]]\n",
        "Price=model.predict(a)\n",
        "print(\"price is: \",Price[0])"
      ]
    },
    {
      "cell_type": "code",
      "execution_count": null,
      "metadata": {
        "colab": {
          "base_uri": "https://localhost:8080/"
        },
        "id": "RL0TAQLqZSu3",
        "outputId": "7ea8446d-97ae-401f-9a3f-8bd169de86e9"
      },
      "outputs": [
        {
          "name": "stdout",
          "output_type": "stream",
          "text": [
            "67.61719748897002\n"
          ]
        }
      ],
      "source": [
        "print(model.score(X,Y)*100)"
      ]
    }
  ],
  "metadata": {
    "colab": {
      "collapsed_sections": [],
      "name": "12___Exam_mark_prediction_using_Linear_Regression.ipynb",
      "provenance": []
    },
    "interpreter": {
      "hash": "dc07d24e2f18896857f0b2a651fe84ba40ce7b297e58d8804a308c8039f752a6"
    },
    "kernelspec": {
      "display_name": "Python 3.9.7 ('base')",
      "language": "python",
      "name": "python3"
    },
    "language_info": {
      "codemirror_mode": {
        "name": "ipython",
        "version": 3
      },
      "file_extension": ".py",
      "mimetype": "text/x-python",
      "name": "python",
      "nbconvert_exporter": "python",
      "pygments_lexer": "ipython3",
      "version": "3.9.7"
    }
  },
  "nbformat": 4,
  "nbformat_minor": 0
}
